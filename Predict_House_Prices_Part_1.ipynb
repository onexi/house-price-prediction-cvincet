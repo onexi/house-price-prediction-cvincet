{
  "cells": [
    {
      "cell_type": "markdown",
      "metadata": {
        "colab_type": "text",
        "id": "view-in-github"
      },
      "source": [
        "<a href=\"https://colab.research.google.com/github/johntango/PS2HouseDataExercise/blob/master/Predict_House_Prices_Part_1.ipynb\" target=\"_parent\"><img src=\"https://colab.research.google.com/assets/colab-badge.svg\" alt=\"Open In Colab\"/></a>"
      ]
    },
    {
      "cell_type": "code",
      "execution_count": 1,
      "metadata": {
        "id": "Oh_W51UKiVyj"
      },
      "outputs": [],
      "source": [
        "# House Sales Data, ETL, Build Predictive Model(linear regression), \n",
        "# Assess Model, Deploy Model   'houseSmallData.csv' and \"data_description.txt\"\n",
        "\n",
        "import pandas as pd\n",
        "import numpy as np\n",
        "import matplotlib.pyplot as plt"
      ]
    },
    {
      "cell_type": "markdown",
      "metadata": {
        "id": "w0tNzE2GiVym"
      },
      "source": [
        "### data_description.txt\n",
        "SalePrice — the property’s sale price in dollars. This is the target variable that you’re trying to predict.  \n",
        "MSSubClass — The building class  \n",
        "MSZoning — The general zoning classification \n",
        "MasVnrArea - Masonary Veneer Area in sq ft\n",
        "LotFrontage — Linear feet of street connected to property  \n",
        "LotArea — Lot size in square feet  \n",
        "Street — Type of road access  \n",
        "Alley — Type of alley access  \n",
        "LotShape — General shape of property  \n",
        "LandContour — Flatness of the property  \n",
        "Utilities — Type of utilities available  \n",
        "LotConfig — Lot configuration  "
      ]
    },
    {
      "cell_type": "markdown",
      "metadata": {
        "id": "bHK6tRf3iVyn"
      },
      "source": [
        "$$Y = X_{1}\\beta_{1} + X_{2}\\beta_{2} + X_{3}\\beta_{3}...$$"
      ]
    },
    {
      "cell_type": "code",
      "execution_count": 39,
      "metadata": {
        "colab": {
          "base_uri": "https://localhost:8080/",
          "height": 300
        },
        "id": "5bYSMt7FiVyo",
        "outputId": "ca0a3a5d-5df5-4347-f60e-0c6063ab67f8"
      },
      "outputs": [],
      "source": [
        "data = pd.read_csv('train.csv')\n",
        "train = data.iloc[:1000,:]\n",
        "answers = data.iloc[1000:,:]\n",
        "\n",
        "train.to_json('housedata.json')\n",
        "train.shape\n",
        "train.head()\n",
        "\n",
        "#data to test on\n",
        "test_data = pd.read_csv('test.csv')\n",
        "test = test_data.iloc[:,:]\n",
        "test.to_json('housedata_test.json')\n",
        "\n",
        "answers['SalePrice'].to_json('answers.json')"
      ]
    },
    {
      "cell_type": "markdown",
      "metadata": {
        "id": "aO6mI5FNi3ou"
      },
      "source": [
        "# New Section"
      ]
    },
    {
      "cell_type": "code",
      "execution_count": 38,
      "metadata": {
        "colab": {
          "base_uri": "https://localhost:8080/"
        },
        "id": "gnhZPn2piVyo",
        "outputId": "4ef41d35-e348-4547-b23d-55157bf5ebc4"
      },
      "outputs": [
        {
          "data": {
            "text/plain": [
              "1000     82000\n",
              "1001     86000\n",
              "1002    232000\n",
              "1003    136905\n",
              "1004    181000\n",
              "         ...  \n",
              "1455    175000\n",
              "1456    210000\n",
              "1457    266500\n",
              "1458    142125\n",
              "1459    147500\n",
              "Name: SalePrice, Length: 460, dtype: int64"
            ]
          },
          "execution_count": 38,
          "metadata": {},
          "output_type": "execute_result"
        }
      ],
      "source": [
        "# investigate Sale Price\n",
        "train['SalePrice']\n",
        "answers['SalePrice']"
      ]
    },
    {
      "cell_type": "code",
      "execution_count": 4,
      "metadata": {
        "colab": {
          "base_uri": "https://localhost:8080/",
          "height": 334
        },
        "id": "YA1EAz3WiVyp",
        "outputId": "67d2b5e8-e6c0-4820-9e78-dc872461e66a"
      },
      "outputs": [
        {
          "data": {
            "text/plain": [
              "(array([ 99., 493., 254.,  93.,  38.,  15.,   4.,   2.,   1.,   1.]),\n",
              " array([ 34900., 106910., 178920., 250930., 322940., 394950., 466960.,\n",
              "        538970., 610980., 682990., 755000.]),\n",
              " <BarContainer object of 10 artists>)"
            ]
          },
          "execution_count": 4,
          "metadata": {},
          "output_type": "execute_result"
        },
        {
          "data": {
            "image/png": "[encoded data removed]",
            "text/plain": [
              "<Figure size 640x480 with 1 Axes>"
            ]
          },
          "metadata": {},
          "output_type": "display_data"
        }
      ],
      "source": [
        "# plot hist\n",
        "plt.hist(train['SalePrice'])"
      ]
    },
    {
      "cell_type": "code",
      "execution_count": 5,
      "metadata": {
        "colab": {
          "base_uri": "https://localhost:8080/"
        },
        "id": "hXKsSD6qiVyq",
        "outputId": "afd73ed7-a0fe-4e42-81b7-8541c7306794"
      },
      "outputs": [
        {
          "data": {
            "text/plain": [
              "(1000, 38)"
            ]
          },
          "execution_count": 5,
          "metadata": {},
          "output_type": "execute_result"
        }
      ],
      "source": [
        "# select numeric columns\n",
        "# calculate correlation factor\n",
        "numeric = train.select_dtypes(include=[np.number])\n",
        "numeric.shape"
      ]
    },
    {
      "cell_type": "code",
      "execution_count": 6,
      "metadata": {
        "colab": {
          "base_uri": "https://localhost:8080/"
        },
        "id": "2eufJ8DCiVyq",
        "outputId": "f7aeb1c0-a7a0-4e35-9a67-86713d5825d0"
      },
      "outputs": [
        {
          "name": "stdout",
          "output_type": "stream",
          "text": [
            "['SalePrice', 'OverallQual', 'GrLivArea', 'GarageCars', 'GarageArea', 'TotalBsmtSF', '1stFlrSF', 'TotRmsAbvGrd', 'FullBath', 'YearBuilt', 'YearRemodAdd', 'GarageYrBlt', 'MasVnrArea', 'Fireplaces', 'BsmtFinSF1', 'LotFrontage', '2ndFlrSF', 'WoodDeckSF', 'OpenPorchSF', 'HalfBath', 'LotArea', 'BsmtUnfSF', 'BsmtFullBath', 'BedroomAbvGr', 'ScreenPorch', 'MoSold', 'PoolArea', '3SsnPorch', 'BsmtFinSF2', 'BsmtHalfBath', 'Id', 'LowQualFinSF', 'YrSold', 'MiscVal', 'MSSubClass', 'OverallCond', 'EnclosedPorch', 'KitchenAbvGr']\n"
          ]
        }
      ],
      "source": [
        "corr = numeric.corr()\n",
        "cols = corr['SalePrice'].sort_values(ascending=False)[0:40].index\n",
        "# cast to list\n",
        "cols = cols.tolist()\n",
        "print(cols)\n",
        "used_cols = ['OverallQual', 'GrLivArea', 'GarageArea', 'TotalBsmtSF', 'YearBuilt', 'LotArea']"
      ]
    },
    {
      "cell_type": "code",
      "execution_count": 7,
      "metadata": {
        "colab": {
          "base_uri": "https://localhost:8080/",
          "height": 677
        },
        "id": "JT9fF7QwiVyr",
        "outputId": "7e7e1d6a-3dab-4a4f-bc60-f297a63065d4"
      },
      "outputs": [],
      "source": [
        "# pick out X cols and Y = SalePricee\n",
        "X = train[used_cols]\n",
        "Y = train['SalePrice']"
      ]
    },
    {
      "cell_type": "code",
      "execution_count": 8,
      "metadata": {
        "id": "468F5oY9iVyr"
      },
      "outputs": [
        {
          "data": {
            "text/plain": [
              "0.8062320592129006"
            ]
          },
          "execution_count": 8,
          "metadata": {},
          "output_type": "execute_result"
        }
      ],
      "source": [
        "# buld Linear Regression Model\n",
        "from sklearn import linear_model\n",
        "lr = linear_model.LinearRegression()\n",
        "model = lr.fit(X, Y)\n",
        "predictions = model.predict(X)\n",
        "# How good is the model\n",
        "model.score(X,Y)"
      ]
    },
    {
      "cell_type": "code",
      "execution_count": 9,
      "metadata": {
        "colab": {
          "base_uri": "https://localhost:8080/",
          "height": 282
        },
        "id": "GrYb9djIiVys",
        "outputId": "ff80bfd9-8dec-4dd3-9b6f-39a221f69da7"
      },
      "outputs": [
        {
          "data": {
            "text/plain": [
              "<matplotlib.collections.PathCollection at 0x7f924ceaaa70>"
            ]
          },
          "execution_count": 9,
          "metadata": {},
          "output_type": "execute_result"
        },
        {
          "data": {
            "image/png": "[encoded data removed]",
            "text/plain": [
              "<Figure size 640x480 with 1 Axes>"
            ]
          },
          "metadata": {},
          "output_type": "display_data"
        }
      ],
      "source": [
        "# Scatter plot of predictions\n",
        "plt.scatter(predictions, Y)"
      ]
    },
    {
      "cell_type": "code",
      "execution_count": 43,
      "metadata": {
        "id": "rJcvLR0liVyt"
      },
      "outputs": [
        {
          "name": "stdout",
          "output_type": "stream",
          "text": [
            "     predictions   answers\n",
            "0   48831.488765   82000.0\n",
            "1   70951.273353   86000.0\n",
            "2  268707.446664  232000.0\n",
            "3  195067.743068  136905.0\n",
            "4  214879.458437  181000.0\n"
          ]
        }
      ],
      "source": [
        "#predict the SalePrice for the test data\n",
        "test_X = test[used_cols]\n",
        "test_predictions = model.predict(test_X)\n",
        "\n",
        "#write the test_predictions to a csv file called predictions.csv with headers ID as int starting from 0 and SALEPRICE as float\n",
        "#write the test_predictions to a csv file called predictions.csv with headers ID as int starting from 0 and SALEPRICE as float\n",
        "test['SALEPRICE'] = test_predictions\n",
        "test['ID'] = test['Id'].astype(int)\n",
        "test[['ID','SALEPRICE']].to_csv('predictions.csv', index=False)\n",
        "\n",
        "#write the test_predictions to a csv file called compare.csv with headers ID and SALEPRICE as float and answers as float from answers['SalePrice']\n",
        "answers['SalePrice'] = answers['SalePrice'].astype(float)\n",
        "\n",
        "test_df = pd.DataFrame()\n",
        "test_df['predictions'] = test_predictions\n",
        "test_df['answers'] = answers['SalePrice'].iloc[:].values\n",
        "print(test_df.head())\n",
        "\n",
        "#write the test_predictions to a csv file called compare.csv with headers ID and SALEPRICE as float and answers as float\n",
        "test_df.to_csv('compare.csv', index=False)"
      ]
    },
    {
      "cell_type": "code",
      "execution_count": 45,
      "metadata": {
        "id": "ZYu9PNWUiVyt"
      },
      "outputs": [
        {
          "name": "stdout",
          "output_type": "stream",
          "text": [
            "43828.5241133937\n"
          ]
        }
      ],
      "source": [
        "#calculate the root mean squared error for test['SALEPRICE'] and test['answers']\n",
        "from sklearn.metrics import mean_squared_error\n",
        "from math import sqrt\n",
        "#calculate root mean squared error\n",
        "rms = sqrt(mean_squared_error(test_df['predictions'], test_df['answers']))\n",
        "print(rms)"
      ]
    },
    {
      "cell_type": "code",
      "execution_count": null,
      "metadata": {
        "id": "hC1HK-MOiVyt"
      },
      "outputs": [],
      "source": []
    },
    {
      "cell_type": "code",
      "execution_count": null,
      "metadata": {
        "id": "e--5D8-NiVyt"
      },
      "outputs": [],
      "source": []
    },
    {
      "cell_type": "code",
      "execution_count": null,
      "metadata": {
        "id": "miDMNwIUiVyt"
      },
      "outputs": [],
      "source": []
    }
  ],
  "metadata": {
    "colab": {
      "collapsed_sections": [],
      "include_colab_link": true,
      "provenance": []
    },
    "kernelspec": {
      "display_name": "base",
      "language": "python",
      "name": "python3"
    },
    "language_info": {
      "codemirror_mode": {
        "name": "ipython",
        "version": 3
      },
      "file_extension": ".py",
      "mimetype": "text/x-python",
      "name": "python",
      "nbconvert_exporter": "python",
      "pygments_lexer": "ipython3",
      "version": "3.10.9"
    },
    "vscode": {
      "interpreter": {
        "hash": "d4d1e4263499bec80672ea0156c357c1ee493ec2b1c70f0acce89fc37c4a6abe"
      }
    }
  },
  "nbformat": 4,
  "nbformat_minor": 0
}
